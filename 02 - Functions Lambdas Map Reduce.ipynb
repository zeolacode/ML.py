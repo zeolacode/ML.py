{
  "nbformat": 4,
  "nbformat_minor": 0,
  "metadata": {
    "colab": {
      "name": "02 - FunctionsLambdasMapReduce.ipynb",
      "provenance": []
    },
    "kernelspec": {
      "name": "python3",
      "display_name": "Python 3"
    },
    "language_info": {
      "name": "python"
    }
  },
  "cells": [
    {
      "cell_type": "markdown",
      "source": [
        "# Funções\n",
        "- Funções, lambdas e map/reduce podem permitir que você processe seus dados de maneira mais rápida. "
      ],
      "metadata": {
        "id": "xYWzY5-bHlDl"
      }
    },
    {
      "cell_type": "code",
      "execution_count": 4,
      "metadata": {
        "colab": {
          "base_uri": "https://localhost:8080/"
        },
        "id": "hnmxT8nkGYhv",
        "outputId": "287c7bc2-7900-4ad3-8fe8-2ae5dacc3554"
      },
      "outputs": [
        {
          "output_type": "stream",
          "name": "stdout",
          "text": [
            "Nome: Pedro Zeola Lopes\n",
            "Nome: Pedro Zeola Lopes\n",
            "Nome: Pedro Zeola Lopes\n"
          ]
        }
      ],
      "source": [
        "# Os parâmetros de uma função podem ser nomeados ou não em Python!\n",
        "# Os valores padrões também podem ser usados!\n",
        "\n",
        "# Exemplo 1: (Passagem de parâmetros) \n",
        "\n",
        "def nome(primeiro, segundo, terceiro= \"Lopes\"):\n",
        "  print(f'Nome completo: {primeiro} {segundo} {terceiro}')\n",
        "\n",
        "nome('Pedro', \"Zeola\")\n",
        "nome('Pedro', \"Zeola\", \"Lopes\")\n",
        "nome(primeiro='Pedro', segundo=\"Zeola\", terceiro=\"Lopes\")"
      ]
    },
    {
      "cell_type": "code",
      "source": [
        "# Exemplo 2: (função que pode ser usada para retirar o espaço em branco do início/final de uma string)\n",
        "\n",
        "def processaStr(str):\n",
        "  t = str.strip()\n",
        "  print(f'\"{str}\"')\n",
        "  return t[0].upper() + t[1:]\n",
        "\n",
        "\n",
        "str = processaStr(\" Ola \")\n",
        "print(f'\"{str}\"')"
      ],
      "metadata": {
        "colab": {
          "base_uri": "https://localhost:8080/"
        },
        "id": "cY_i3DOXLFQv",
        "outputId": "d5e9be4d-a009-4080-bec6-6258b756caa6"
      },
      "execution_count": 19,
      "outputs": [
        {
          "output_type": "stream",
          "name": "stdout",
          "text": [
            "\" Ola \"\n",
            "\"Ola\"\n"
          ]
        }
      ]
    },
    {
      "cell_type": "code",
      "source": [
        "# Exemplo 3: (A função map pega uma lista e aplica uma função a cada membro da lista \n",
        "# e retorna uma segunda lista com o mesmo tamanho da primeira)\n",
        "\n",
        "l = ['   Ola  ', 'Pedro ', 'Zeola', 'Lopes ..  ']\n",
        "\n",
        "\n",
        "list(map(processaStr, l))"
      ],
      "metadata": {
        "colab": {
          "base_uri": "https://localhost:8080/"
        },
        "id": "JmrbHPSWMOI7",
        "outputId": "fbf01869-ecce-41fb-a0d8-31c45099a021"
      },
      "execution_count": 28,
      "outputs": [
        {
          "output_type": "stream",
          "name": "stdout",
          "text": [
            "\"   Ola  \"\n",
            "\"Pedro \"\n",
            "\"Zeola\"\n",
            "\"Lopes ..  \"\n"
          ]
        },
        {
          "output_type": "execute_result",
          "data": {
            "text/plain": [
              "['Ola', 'Pedro', 'Zeola', 'Lopes ..']"
            ]
          },
          "metadata": {},
          "execution_count": 28
        }
      ]
    },
    {
      "cell_type": "code",
      "source": [
        "# A função map é muito semelhante à compreensão do Python (for)\n",
        "\n",
        "l2 = [processaStr(x) for x in l]\n",
        "print(l2)"
      ],
      "metadata": {
        "colab": {
          "base_uri": "https://localhost:8080/"
        },
        "id": "QpVJ3_SqOjrs",
        "outputId": "532a7ff0-623a-4cb4-ac94-61698272ee30"
      },
      "execution_count": 29,
      "outputs": [
        {
          "output_type": "stream",
          "name": "stdout",
          "text": [
            "\"   Ola  \"\n",
            "\"Pedro \"\n",
            "\"Zeola\"\n",
            "\"Lopes ..  \"\n",
            "['Ola', 'Pedro', 'Zeola', 'Lopes ..']\n"
          ]
        }
      ]
    },
    {
      "cell_type": "markdown",
      "source": [
        "# Filter"
      ],
      "metadata": {
        "id": "1TSVWpPfPIHS"
      }
    },
    {
      "cell_type": "code",
      "source": [
        "# Exemplo 4: (filtrar somente números maiores que cinco de uma lista)\n",
        "\n",
        "def maiorQueCinco(x):\n",
        "    return x>5\n",
        "\n",
        "l = [-13, -10, 100, 3, -20, 50]\n",
        "\n",
        "l2 = list(filter(maiorQueCinco, l))\n",
        "print(l2)"
      ],
      "metadata": {
        "colab": {
          "base_uri": "https://localhost:8080/"
        },
        "id": "BGR0H3LSPHZN",
        "outputId": "43a0e225-2ce9-486f-a297-93319f2bb065"
      },
      "execution_count": 27,
      "outputs": [
        {
          "output_type": "stream",
          "name": "stdout",
          "text": [
            "[100, 50]\n"
          ]
        }
      ]
    },
    {
      "cell_type": "markdown",
      "source": [
        "# Lambda "
      ],
      "metadata": {
        "id": "VWVmED-LQCUI"
      }
    },
    {
      "cell_type": "code",
      "source": [
        "# Exemplo 5: Uma lambda economiza o esforço de ter que \n",
        "# escrever uma função! Apesar de desempenhar o papel de uma!\n",
        "\n",
        "l = [-13, -10, 100, 3, -20, 50]\n",
        "l2 = list(filter(lambda x: x > 5, l))\n",
        "print(l2)"
      ],
      "metadata": {
        "colab": {
          "base_uri": "https://localhost:8080/"
        },
        "id": "t6RzVeG6QFaQ",
        "outputId": "0adf64d5-7f5f-443b-e795-f7ed34521f15"
      },
      "execution_count": 26,
      "outputs": [
        {
          "output_type": "stream",
          "name": "stdout",
          "text": [
            "[100, 50]\n"
          ]
        }
      ]
    },
    {
      "cell_type": "markdown",
      "source": [
        "# Reduce"
      ],
      "metadata": {
        "id": "NNe7dS4tQq7U"
      }
    },
    {
      "cell_type": "code",
      "source": [
        "# Exemplo 6: Assim como o Filter e map, a função Reduce também \n",
        "# funciona em uma lista. No entanto, o resultado de uma Reduce é um valor único.\n",
        "\n",
        "# objetivo -> somar os valores de uma lista\n",
        "from functools import reduce\n",
        "\n",
        "l = [-13, -10, 100, 3, -20, 50]\n",
        "\n",
        "result = reduce(lambda x, y: x + y, l)\n",
        "print(result)"
      ],
      "metadata": {
        "colab": {
          "base_uri": "https://localhost:8080/"
        },
        "id": "o0AGwcyAQuNR",
        "outputId": "e1f0fc58-204a-4386-ff1c-4883fc591034"
      },
      "execution_count": 34,
      "outputs": [
        {
          "output_type": "stream",
          "name": "stdout",
          "text": [
            "110\n"
          ]
        }
      ]
    }
  ]
}