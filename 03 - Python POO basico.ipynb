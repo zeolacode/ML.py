{
  "nbformat": 4,
  "nbformat_minor": 0,
  "metadata": {
    "colab": {
      "name": "03 - Python POO.ipynb",
      "provenance": []
    },
    "kernelspec": {
      "name": "python3",
      "display_name": "Python 3"
    },
    "language_info": {
      "name": "python"
    }
  },
  "cells": [
    {
      "cell_type": "markdown",
      "source": [
        "# Definindo uma classe em python"
      ],
      "metadata": {
        "id": "E0tZFaL4c21P"
      }
    },
    {
      "cell_type": "code",
      "execution_count": 18,
      "metadata": {
        "id": "nCO1_bf0fOak"
      },
      "outputs": [],
      "source": [
        "# Todas as definições de classe começam com a palavra-chave class, que é seguida pelo nome da classe e dois pontos. \n",
        "# Qualquer código recuado abaixo da definição da classe é considerado parte do corpo da classe.\n",
        "\n",
        "# ex:\n",
        "\n",
        "class Dog:\n",
        "  pass\n"
      ]
    },
    {
      "cell_type": "code",
      "source": [
        "# Criando um método que cria 2 atributos, o nome e a idade\n",
        "\n",
        "\n",
        "class Dog:\n",
        "  '''As propriedades que todos os objetos Dog devem ter, são definidas em um método \n",
        "  chamado .__init__(). Toda vez que um novo objeto Dog é criado, .__init__() define \n",
        "  o estado inicial do objeto atribuindo os valores das propriedades do objeto. \n",
        "  Ou seja, .__init__() inicializa cada nova instância da classe.\n",
        "\n",
        "  Você pode dar a .__init__() qualquer número de parâmetros, mas o primeiro parâmetro \n",
        "  sempre será uma variável chamada self. Quando uma nova instância de classe é criada, \n",
        "  a instância é automaticamente passada para o parâmetro self em .__init__() para que \n",
        "  novos atributos possam ser definidos no objeto.'''\n",
        "\n",
        "  # construtor   \n",
        "  def __init__(self, name, age):\n",
        "      '''self.name = name cria um atributo chamado name e atribui a ele o valor do parâmetro name.'''\n",
        "      self.name = name\n",
        "      '''self.age = age cria um atributo chamado age e atribui a ele o valor do parâmetro age.'''\n",
        "      self.age = age"
      ],
      "metadata": {
        "id": "Af8GdWB7dplj"
      },
      "execution_count": 16,
      "outputs": []
    },
    {
      "cell_type": "code",
      "source": [
        "# caso um atributo possuir o mesmo valor para todas as instâncias de classe, podemos \n",
        "# definir um atributo de classe atribuindo um valor a um nome de variável fora de .__init__().\n",
        "\n",
        "class Dog:\n",
        "    # Atributo da classe\n",
        "    species = \"Canis familiaris\"\n",
        "\n",
        "    def __init__(self, name, age):\n",
        "        self.name = name\n",
        "        self.age = age\n"
      ],
      "metadata": {
        "id": "Tz8rbSEkgDO4"
      },
      "execution_count": 8,
      "outputs": []
    },
    {
      "cell_type": "markdown",
      "source": [
        "# Instanciando um objeto em python"
      ],
      "metadata": {
        "id": "Az5tA2j1gjhl"
      }
    },
    {
      "cell_type": "code",
      "source": [
        "class Dog:\n",
        "  pass\n",
        "\n",
        "Dog()"
      ],
      "metadata": {
        "colab": {
          "base_uri": "https://localhost:8080/"
        },
        "id": "edCLyPwAguBg",
        "outputId": "7c61394c-2f0f-4011-c256-a7b899090238"
      },
      "execution_count": 20,
      "outputs": [
        {
          "output_type": "execute_result",
          "data": {
            "text/plain": [
              "<__main__.Dog at 0x7f315c063d50>"
            ]
          },
          "metadata": {},
          "execution_count": 20
        }
      ]
    },
    {
      "cell_type": "code",
      "source": [
        "dog1 = Dog()\n",
        "dog2 = Dog()\n",
        "\n",
        "print(type(dog1))\n",
        "print(type(dog2))"
      ],
      "metadata": {
        "colab": {
          "base_uri": "https://localhost:8080/"
        },
        "id": "C8DB0TutgxFN",
        "outputId": "87eeb745-c121-4790-88ca-ac0c149f4887"
      },
      "execution_count": 21,
      "outputs": [
        {
          "output_type": "stream",
          "name": "stdout",
          "text": [
            "<class '__main__.Dog'>\n",
            "<class '__main__.Dog'>\n"
          ]
        }
      ]
    },
    {
      "cell_type": "code",
      "source": [
        "dog1 == dog2"
      ],
      "metadata": {
        "colab": {
          "base_uri": "https://localhost:8080/"
        },
        "id": "DhM167QKg19k",
        "outputId": "da748445-3059-443e-e83e-a456d3786717"
      },
      "execution_count": 22,
      "outputs": [
        {
          "output_type": "execute_result",
          "data": {
            "text/plain": [
              "False"
            ]
          },
          "metadata": {},
          "execution_count": 22
        }
      ]
    },
    {
      "cell_type": "code",
      "source": [
        "# Nova classe Dog\n",
        "\n",
        "class Dog:\n",
        "    # Atributo da classe\n",
        "    species = \"Canis familiaris\"\n",
        "\n",
        "    def __init__(self, name, age):\n",
        "        self.name = name\n",
        "        self.age = age"
      ],
      "metadata": {
        "id": "Jw8mJ4DchOZV"
      },
      "execution_count": 24,
      "outputs": []
    },
    {
      "cell_type": "code",
      "source": [
        "##########################\n",
        "# ERRO!!!\n",
        "##########################\n",
        "\n",
        "# Para instanciar objetos dessa classe Dog, você precisa fornecer valores para o nome e a idade. \n",
        "# Caso contrário, o Python gera um TypeError:\n",
        "\n",
        "Dog()"
      ],
      "metadata": {
        "colab": {
          "base_uri": "https://localhost:8080/",
          "height": 205
        },
        "id": "yLX9-w3Oi0Eb",
        "outputId": "89d71c9e-4ca0-479e-8a16-eeb13756f703"
      },
      "execution_count": 25,
      "outputs": [
        {
          "output_type": "error",
          "ename": "TypeError",
          "evalue": "ignored",
          "traceback": [
            "\u001b[0;31m---------------------------------------------------------------------------\u001b[0m",
            "\u001b[0;31mTypeError\u001b[0m                                 Traceback (most recent call last)",
            "\u001b[0;32m<ipython-input-25-bf69428b448b>\u001b[0m in \u001b[0;36m<module>\u001b[0;34m()\u001b[0m\n\u001b[1;32m      6\u001b[0m \u001b[0;31m# Caso contrário, o Python gera um TypeError:\u001b[0m\u001b[0;34m\u001b[0m\u001b[0;34m\u001b[0m\u001b[0;34m\u001b[0m\u001b[0m\n\u001b[1;32m      7\u001b[0m \u001b[0;34m\u001b[0m\u001b[0m\n\u001b[0;32m----> 8\u001b[0;31m \u001b[0mDog\u001b[0m\u001b[0;34m(\u001b[0m\u001b[0;34m)\u001b[0m\u001b[0;34m\u001b[0m\u001b[0;34m\u001b[0m\u001b[0m\n\u001b[0m",
            "\u001b[0;31mTypeError\u001b[0m: __init__() missing 2 required positional arguments: 'name' and 'age'"
          ]
        }
      ]
    },
    {
      "cell_type": "code",
      "source": [
        "# instanciando objeto buddy e miles da classe Dog\n",
        "\n",
        "buddy = Dog(\"Buddy\", 9)\n",
        "miles = Dog(\"Miles\", 4)"
      ],
      "metadata": {
        "id": "TJ9B7xSzjNEw"
      },
      "execution_count": 26,
      "outputs": []
    },
    {
      "cell_type": "code",
      "source": [
        "print(buddy.name)\n",
        "print(buddy.age)\n",
        "print(buddy.species)\n",
        "\n",
        "print('*-*-*-*-*-')\n",
        "\n",
        "print(miles.name)\n",
        "print(miles.age)\n",
        "print(miles.species)"
      ],
      "metadata": {
        "colab": {
          "base_uri": "https://localhost:8080/"
        },
        "id": "OQzFzFdBjQDO",
        "outputId": "834b2bd9-9a87-456d-83cf-9689d9de3662"
      },
      "execution_count": 34,
      "outputs": [
        {
          "output_type": "stream",
          "name": "stdout",
          "text": [
            "Buddy\n",
            "9\n",
            "Canis familiaris\n",
            "*-*-*-*-*-\n",
            "Miles\n",
            "4\n",
            "Canis familiaris\n"
          ]
        }
      ]
    },
    {
      "cell_type": "markdown",
      "source": [
        "# Métodos"
      ],
      "metadata": {
        "id": "M4rTECIFkGYE"
      }
    },
    {
      "cell_type": "code",
      "source": [
        "class Dog:\n",
        "    species = \"Canis familiaris\"\n",
        "\n",
        "    def __init__(self, name, age):\n",
        "        self.name = name\n",
        "        self.age = age\n",
        "\n",
        "    # instanciando método\n",
        "    def description(self):\n",
        "        return f\"{self.name} is {self.age} years old\"\n",
        "\n",
        "    # instanciando outro método\n",
        "    def speak(self, sound):\n",
        "        return f\"{self.name} says {sound}\""
      ],
      "metadata": {
        "id": "XeetPSmVkLuh"
      },
      "execution_count": 35,
      "outputs": []
    },
    {
      "cell_type": "code",
      "source": [
        "miles = Dog(\"Miles\", 4)"
      ],
      "metadata": {
        "id": "iJzmuAvWkcOk"
      },
      "execution_count": 36,
      "outputs": []
    },
    {
      "cell_type": "code",
      "source": [
        "miles.description()"
      ],
      "metadata": {
        "colab": {
          "base_uri": "https://localhost:8080/",
          "height": 36
        },
        "id": "pK1uBjwjkhUN",
        "outputId": "819279d1-b452-4241-b2ad-1edf97f420e5"
      },
      "execution_count": 37,
      "outputs": [
        {
          "output_type": "execute_result",
          "data": {
            "application/vnd.google.colaboratory.intrinsic+json": {
              "type": "string"
            },
            "text/plain": [
              "'Miles is 4 years old'"
            ]
          },
          "metadata": {},
          "execution_count": 37
        }
      ]
    },
    {
      "cell_type": "code",
      "source": [
        "miles.speak(\"Woof Woof\")"
      ],
      "metadata": {
        "colab": {
          "base_uri": "https://localhost:8080/",
          "height": 36
        },
        "id": "u1atT94Dkh9j",
        "outputId": "9bd3a689-b01d-468f-af0a-4069f00c0eab"
      },
      "execution_count": 38,
      "outputs": [
        {
          "output_type": "execute_result",
          "data": {
            "application/vnd.google.colaboratory.intrinsic+json": {
              "type": "string"
            },
            "text/plain": [
              "'Miles says Woof Woof'"
            ]
          },
          "metadata": {},
          "execution_count": 38
        }
      ]
    },
    {
      "cell_type": "code",
      "source": [
        "miles.speak(\"Bow Wow\")"
      ],
      "metadata": {
        "colab": {
          "base_uri": "https://localhost:8080/",
          "height": 36
        },
        "id": "43scviwBkm_L",
        "outputId": "d9658a8b-ffb0-4d51-818e-62129ec9e191"
      },
      "execution_count": 39,
      "outputs": [
        {
          "output_type": "execute_result",
          "data": {
            "application/vnd.google.colaboratory.intrinsic+json": {
              "type": "string"
            },
            "text/plain": [
              "'Miles says Bow Wow'"
            ]
          },
          "metadata": {},
          "execution_count": 39
        }
      ]
    },
    {
      "cell_type": "code",
      "source": [
        "print(miles)"
      ],
      "metadata": {
        "colab": {
          "base_uri": "https://localhost:8080/"
        },
        "id": "ZZ4amSmQksNl",
        "outputId": "918e48d4-8292-45e7-a709-53d4d2e642b6"
      },
      "execution_count": 40,
      "outputs": [
        {
          "output_type": "stream",
          "name": "stdout",
          "text": [
            "<__main__.Dog object at 0x7f3157ec5f10>\n"
          ]
        }
      ]
    },
    {
      "cell_type": "code",
      "source": [
        "#  usando o método __str__()\n",
        "\n",
        "class Dog:\n",
        "    species = \"Canis familiaris\"\n",
        "\n",
        "    def __init__(self, name, age):\n",
        "        self.name = name\n",
        "        self.age = age\n",
        "\n",
        "    # instanciando método\n",
        "    def __str__(self):\n",
        "        return f\"{self.name} is {self.age} years old\"\n",
        "\n",
        "    # instanciando outro método\n",
        "    def speak(self, sound):\n",
        "        return f\"{self.name} says {sound}\""
      ],
      "metadata": {
        "id": "ysI7W9Mbldde"
      },
      "execution_count": 41,
      "outputs": []
    },
    {
      "cell_type": "code",
      "source": [
        "# o método __str__() retorna uma representação de string do objeto miles\n",
        "\n",
        "miles = Dog(\"Miles\", 4)\n",
        "print(miles)"
      ],
      "metadata": {
        "colab": {
          "base_uri": "https://localhost:8080/"
        },
        "id": "xA-PqD6xmBxt",
        "outputId": "7259b865-5769-4f22-b701-fff2095a517d"
      },
      "execution_count": 44,
      "outputs": [
        {
          "output_type": "stream",
          "name": "stdout",
          "text": [
            "Miles is 4 years old\n"
          ]
        }
      ]
    },
    {
      "cell_type": "markdown",
      "source": [
        "# Pai x Filho (Herança)"
      ],
      "metadata": {
        "id": "xDWnFxObnUHt"
      }
    },
    {
      "cell_type": "code",
      "source": [
        "# Classe Pai\n",
        "\n",
        "class Dog:\n",
        "    species = \"Canis familiaris\"\n",
        "\n",
        "    def __init__(self, name, age):\n",
        "        self.name = name\n",
        "        self.age = age\n",
        "\n",
        "    def __str__(self):\n",
        "        return f\"{self.name} is {self.age} years old\"\n",
        "\n",
        "    def speak(self, sound):\n",
        "        return f\"{self.name} says {sound}\""
      ],
      "metadata": {
        "id": "c7YSguDSmu1q"
      },
      "execution_count": 56,
      "outputs": []
    },
    {
      "cell_type": "code",
      "source": [
        "# classe filho (JackRussellTerrier) tem como herança, todos os atributos e métodos da classe pai (Dog)! \n",
        "\n",
        "class JackRussellTerrier(Dog):\n",
        "    def eat(self, eat):\n",
        "        return f\"{self.name} is eating {eat}\"\n"
      ],
      "metadata": {
        "id": "votkWBIinfDK"
      },
      "execution_count": 78,
      "outputs": []
    },
    {
      "cell_type": "code",
      "source": [
        "miles = JackRussellTerrier(\"Miles\", 4)"
      ],
      "metadata": {
        "id": "m7F8tI2Znj4V"
      },
      "execution_count": 80,
      "outputs": []
    },
    {
      "cell_type": "code",
      "source": [
        "print(miles.species)\n",
        "print(miles.name)\n",
        "print(miles.speak('Woof Woof'))"
      ],
      "metadata": {
        "colab": {
          "base_uri": "https://localhost:8080/"
        },
        "id": "6HSbWqIXoJE-",
        "outputId": "07ff835c-680f-4c8d-abd4-ed880a9e541e"
      },
      "execution_count": 81,
      "outputs": [
        {
          "output_type": "stream",
          "name": "stdout",
          "text": [
            "Canis familiaris\n",
            "Miles\n",
            "Miles says Woof Woof\n"
          ]
        }
      ]
    },
    {
      "cell_type": "code",
      "source": [
        "# metodo classe filho \n",
        "\n",
        "print(miles.eat('meat'))"
      ],
      "metadata": {
        "colab": {
          "base_uri": "https://localhost:8080/",
          "height": 36
        },
        "id": "LNgZwbhXoytC",
        "outputId": "f0116c88-5429-42b7-cf06-2a7e8a9d45d9"
      },
      "execution_count": 82,
      "outputs": [
        {
          "output_type": "execute_result",
          "data": {
            "application/vnd.google.colaboratory.intrinsic+json": {
              "type": "string"
            },
            "text/plain": [
              "'Miles is eating meat'"
            ]
          },
          "metadata": {},
          "execution_count": 82
        }
      ]
    }
  ]
}