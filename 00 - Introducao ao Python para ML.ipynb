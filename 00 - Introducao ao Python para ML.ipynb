{
  "nbformat": 4,
  "nbformat_minor": 0,
  "metadata": {
    "colab": {
      "name": "Introdução ao Python para ML.ipynb",
      "provenance": [],
      "collapsed_sections": [
        "Syonn53GsBJL",
        "oelRF44Lveu1",
        "YkTxVmwo0Eid",
        "nFyqGlLB2sFR",
        "LNobaZnCI01X"
      ]
    },
    "kernelspec": {
      "name": "python3",
      "display_name": "Python 3"
    },
    "language_info": {
      "name": "python"
    }
  },
  "cells": [
    {
      "cell_type": "markdown",
      "source": [
        "# Introdução ao Python para Machine Learnig"
      ],
      "metadata": {
        "id": "cMylpGy8rv-a"
      }
    },
    {
      "cell_type": "markdown",
      "source": [
        "## print()"
      ],
      "metadata": {
        "id": "Syonn53GsBJL"
      }
    },
    {
      "cell_type": "code",
      "execution_count": 16,
      "metadata": {
        "colab": {
          "base_uri": "https://localhost:8080/"
        },
        "id": "t5x2r_UfruXa",
        "outputId": "921a3e3f-4517-483b-9b68-dae2e9d5d3ef"
      },
      "outputs": [
        {
          "output_type": "stream",
          "name": "stdout",
          "text": [
            "Hello World\n"
          ]
        }
      ],
      "source": [
        "# Comentário de uma única linha\n",
        "\"\"\"\n",
        "Comentário de várias linhas \n",
        "x = 10 \n",
        "x\n",
        "\"\"\"\n",
        "# este código passa uma string contendo \"Hello World\" para a função print! Que retorna/exibe a própria string.\n",
        "\n",
        "print(\"Hello World\")"
      ]
    },
    {
      "cell_type": "code",
      "source": [
        "# Para exibir em linhas diferentes podemos usar \"\"\"....\"\"\"\n",
        "print(\"\"\"Print\n",
        "Multiple\n",
        "Lines\n",
        "\"\"\")"
      ],
      "metadata": {
        "colab": {
          "base_uri": "https://localhost:8080/"
        },
        "id": "h_0sMqdIsk9o",
        "outputId": "82b1df11-5c63-48de-f894-cbc0a6710bc6"
      },
      "execution_count": 5,
      "outputs": [
        {
          "output_type": "stream",
          "name": "stdout",
          "text": [
            "Print\n",
            "Multiple\n",
            "Lines\n",
            "\n"
          ]
        }
      ]
    },
    {
      "cell_type": "code",
      "source": [
        "# exibir números\n",
        "\n",
        "print(10)\n",
        "print(10.75)"
      ],
      "metadata": {
        "colab": {
          "base_uri": "https://localhost:8080/"
        },
        "id": "QAL5Ii4WtYbu",
        "outputId": "a044a94c-995d-4e5d-e951-f21551b060e1"
      },
      "execution_count": 6,
      "outputs": [
        {
          "output_type": "stream",
          "name": "stdout",
          "text": [
            "10\n",
            "10.75\n"
          ]
        }
      ]
    },
    {
      "cell_type": "code",
      "source": [
        "# exibir variáveis \n",
        "\n",
        "a = 10\n",
        "b = \"ten\"\n",
        "print(a)\n",
        "print(b)"
      ],
      "metadata": {
        "colab": {
          "base_uri": "https://localhost:8080/"
        },
        "id": "jMdRpjbzt6kr",
        "outputId": "b9b68588-2db8-4765-90df-94f1ade3fa69"
      },
      "execution_count": 7,
      "outputs": [
        {
          "output_type": "stream",
          "name": "stdout",
          "text": [
            "10\n",
            "ten\n"
          ]
        }
      ]
    },
    {
      "cell_type": "code",
      "source": [
        "a = 10\n",
        "print(a)\n",
        "a = a + 5\n",
        "print(a)"
      ],
      "metadata": {
        "colab": {
          "base_uri": "https://localhost:8080/"
        },
        "id": "vxair6SjuCFl",
        "outputId": "25e403cf-803f-46d6-8ba9-5fea2be10257"
      },
      "execution_count": 9,
      "outputs": [
        {
          "output_type": "stream",
          "name": "stdout",
          "text": [
            "10\n",
            "15\n"
          ]
        }
      ]
    },
    {
      "cell_type": "code",
      "source": [
        "# exibir variáveis em uma string \n",
        "var = 100\n",
        "print(f'O valor é: {var}')"
      ],
      "metadata": {
        "colab": {
          "base_uri": "https://localhost:8080/"
        },
        "id": "l7TEVrS8uHj6",
        "outputId": "e381cbef-9cca-4593-a11d-fa36eb998355"
      },
      "execution_count": 13,
      "outputs": [
        {
          "output_type": "stream",
          "name": "stdout",
          "text": [
            "O valor é: 100\n"
          ]
        }
      ]
    },
    {
      "cell_type": "code",
      "source": [
        "var = 10\n",
        "print(f'O valor é: {var+5}')"
      ],
      "metadata": {
        "colab": {
          "base_uri": "https://localhost:8080/"
        },
        "id": "mJp5p58Uuf29",
        "outputId": "bc2549c7-8f0f-4843-930b-5a9e1c13572c"
      },
      "execution_count": 14,
      "outputs": [
        {
          "output_type": "stream",
          "name": "stdout",
          "text": [
            "O valor é: 15\n"
          ]
        }
      ]
    },
    {
      "cell_type": "code",
      "source": [
        "# outras possíbilidades\n",
        "\n",
        "print(f'O valor é: {var}') \n",
        "print('O valor é: {}'.format(var))\n",
        "print('O valor é: ' + str(var))\n",
        "print('O valor é: %d' % (var))"
      ],
      "metadata": {
        "colab": {
          "base_uri": "https://localhost:8080/"
        },
        "id": "pUBGIApyulqb",
        "outputId": "947e0555-accd-4d38-bfd8-8bf550931b9b"
      },
      "execution_count": 18,
      "outputs": [
        {
          "output_type": "stream",
          "name": "stdout",
          "text": [
            "O valor é: 10\n",
            "O valor é: 10\n",
            "O valor é: 10\n",
            "O valor é: 10\n"
          ]
        }
      ]
    },
    {
      "cell_type": "markdown",
      "source": [
        "## Condicionais"
      ],
      "metadata": {
        "id": "oelRF44Lveu1"
      }
    },
    {
      "cell_type": "markdown",
      "source": [
        "Seja A e B 2 valores:\n",
        "\n",
        "1.   [ == ]\t  Igualdade\tVerifica a igualdade entre dois valores.\n",
        "2.   [ != ]  \tIgualdade  \tVerifica a diferença entre dois valores\n",
        "3.   [ > \t]   Comparação\tVerificar se o valor A é maior que o valor B.\n",
        "4.   [ <  ]   Comparação\tVerifica se o valor A é menor que o valor B.\n",
        "5.   [ >=\t]   Comparação\tVerifica se o valor A é maior ou igual ao valor B.\n",
        "6.   [ <=\t]   Comparação\tVerifica se o valor A é menor ou igual ao valor B.\n",
        "7.   [ In\t]   Seqüência\tVerifica se o valor A está contido em um conjunto.\n",
        "\n",
        "\n"
      ],
      "metadata": {
        "id": "2ox_UkZcxKpd"
      }
    },
    {
      "cell_type": "code",
      "source": [
        "var = 100\n",
        "\n",
        "if var > 100:\n",
        "    print('Var é maior que 100.')\n",
        "else:\n",
        "    print('Var é menor que 100')"
      ],
      "metadata": {
        "colab": {
          "base_uri": "https://localhost:8080/"
        },
        "id": "sZx12Luevm7M",
        "outputId": "3a338525-ee3d-4dbf-9042-d4e266d6607a"
      },
      "execution_count": 19,
      "outputs": [
        {
          "output_type": "stream",
          "name": "stdout",
          "text": [
            "Var é menor que 100\n"
          ]
        }
      ]
    },
    {
      "cell_type": "code",
      "source": [
        "var1 = 10\n",
        "var2 = 11\n",
        "\n",
        "if var1==10:\n",
        "    print('O valor é 10')\n",
        "    if var2==11:\n",
        "        print('O valor é 11')\n",
        "elif var1==11:\n",
        "    print('O valor é 11')"
      ],
      "metadata": {
        "colab": {
          "base_uri": "https://localhost:8080/"
        },
        "id": "7dDLJ_-uwAE1",
        "outputId": "48a2c2e9-be01-4e51-9d69-aa52ee3dad7c"
      },
      "execution_count": 23,
      "outputs": [
        {
          "output_type": "stream",
          "name": "stdout",
          "text": [
            "O valor é 10\n",
            "O valor é 11\n"
          ]
        }
      ]
    },
    {
      "cell_type": "markdown",
      "source": [
        "## Estruturas de Repetição"
      ],
      "metadata": {
        "id": "YkTxVmwo0Eid"
      }
    },
    {
      "cell_type": "code",
      "source": [
        "for x in range(1, 10):  \n",
        "    print(x)"
      ],
      "metadata": {
        "colab": {
          "base_uri": "https://localhost:8080/"
        },
        "id": "J-KUDbPh0I_E",
        "outputId": "9d26503f-8486-4d22-d41b-8f66636cefd4"
      },
      "execution_count": 24,
      "outputs": [
        {
          "output_type": "stream",
          "name": "stdout",
          "text": [
            "1\n",
            "2\n",
            "3\n",
            "4\n",
            "5\n",
            "6\n",
            "7\n",
            "8\n",
            "9\n"
          ]
        }
      ]
    },
    {
      "cell_type": "code",
      "source": [
        "x = 1\n",
        "\n",
        "while(x < 10):\n",
        "  print(x)\n",
        "  x+=1"
      ],
      "metadata": {
        "colab": {
          "base_uri": "https://localhost:8080/"
        },
        "id": "YrKGe26f0OWo",
        "outputId": "462086d4-b2dc-4b32-ed2d-9c8f8381ed29"
      },
      "execution_count": 28,
      "outputs": [
        {
          "output_type": "stream",
          "name": "stdout",
          "text": [
            "1\n",
            "2\n",
            "3\n",
            "4\n",
            "5\n",
            "6\n",
            "7\n",
            "8\n",
            "9\n"
          ]
        }
      ]
    },
    {
      "cell_type": "code",
      "source": [
        "acc = 0\n",
        "for x in range(1, 10):\n",
        "    acc += x\n",
        "    print(f\"Iteração {x}, a soma é {acc}\")\n",
        "\n",
        "print(f\"Final da soma é: {acc}\")"
      ],
      "metadata": {
        "colab": {
          "base_uri": "https://localhost:8080/"
        },
        "id": "LhYqIr-x0hw_",
        "outputId": "b87f1449-af24-4ee0-c64f-538e949670dd"
      },
      "execution_count": 30,
      "outputs": [
        {
          "output_type": "stream",
          "name": "stdout",
          "text": [
            "Iteração 1, a soma é 1\n",
            "Iteração 2, a soma é 3\n",
            "Iteração 3, a soma é 6\n",
            "Iteração 4, a soma é 10\n",
            "Iteração 5, a soma é 15\n",
            "Iteração 6, a soma é 21\n",
            "Iteração 7, a soma é 28\n",
            "Iteração 8, a soma é 36\n",
            "Iteração 9, a soma é 45\n",
            "Final da soma é: 45\n"
          ]
        }
      ]
    },
    {
      "cell_type": "code",
      "source": [
        "x = 1\n",
        "acc = 0\n",
        "while(x < 10):\n",
        "    acc += x\n",
        "    print(f\"Iteração {x}, a soma é {acc}\")\n",
        "    x += 1\n",
        "\n",
        "print(f\"Final da soma é: {acc}\")"
      ],
      "metadata": {
        "colab": {
          "base_uri": "https://localhost:8080/"
        },
        "id": "IIHIIPKA1BtU",
        "outputId": "ed55c0aa-e956-4f4b-ae37-8ddfff44d4b5"
      },
      "execution_count": 39,
      "outputs": [
        {
          "output_type": "stream",
          "name": "stdout",
          "text": [
            "Iteração 1, a soma é 1\n",
            "Iteração 2, a soma é 3\n",
            "Iteração 3, a soma é 6\n",
            "Iteração 4, a soma é 10\n",
            "Iteração 5, a soma é 15\n",
            "Iteração 6, a soma é 21\n",
            "Iteração 7, a soma é 28\n",
            "Iteração 8, a soma é 36\n",
            "Iteração 9, a soma é 45\n",
            "Final da soma é: 45\n"
          ]
        }
      ]
    },
    {
      "cell_type": "markdown",
      "source": [
        "## Listas e Tuplas"
      ],
      "metadata": {
        "id": "nFyqGlLB2sFR"
      }
    },
    {
      "cell_type": "code",
      "source": [
        "# Listas são declaradas com [] e tuplas com ()\n",
        "# A grande diferença entre elas é que uma lista é mutável, ja uma tupla não é!\n",
        "lista = ['a', 'd', 'f', 'p']\n",
        "tupla = ('a', 'd', 'f', 'p')\n",
        "\n",
        "print(lista)\n",
        "print(tupla)"
      ],
      "metadata": {
        "colab": {
          "base_uri": "https://localhost:8080/"
        },
        "id": "-vo5rnIV200Y",
        "outputId": "7f5454b1-05b2-4f35-fa7e-1df2f49821ea"
      },
      "execution_count": 41,
      "outputs": [
        {
          "output_type": "stream",
          "name": "stdout",
          "text": [
            "['a', 'd', 'f', 'p']\n",
            "('a', 'd', 'f', 'p')\n"
          ]
        }
      ]
    },
    {
      "cell_type": "code",
      "source": [
        "lista[1] = 'changed'\n",
        "\n",
        "print(lista)"
      ],
      "metadata": {
        "colab": {
          "base_uri": "https://localhost:8080/"
        },
        "id": "lZPbu1lJ4i1r",
        "outputId": "6a131691-2659-4978-9b35-fa5c50ae346c"
      },
      "execution_count": 43,
      "outputs": [
        {
          "output_type": "stream",
          "name": "stdout",
          "text": [
            "['a', 'changed', 'f', 'p']\n"
          ]
        }
      ]
    },
    {
      "cell_type": "code",
      "source": [
        "# Iterar sobre uma lista\n",
        "\n",
        "for i in lista:\n",
        "  print(i)"
      ],
      "metadata": {
        "colab": {
          "base_uri": "https://localhost:8080/"
        },
        "id": "wcbngvMz4mjJ",
        "outputId": "bc035064-50f9-4da7-e2cf-6d117c38b66a"
      },
      "execution_count": 46,
      "outputs": [
        {
          "output_type": "stream",
          "name": "stdout",
          "text": [
            "a\n",
            "changed\n",
            "f\n",
            "p\n"
          ]
        }
      ]
    },
    {
      "cell_type": "code",
      "source": [
        "# Iterar sobre uma lista e seu índice\n",
        "\n",
        "for i,l in enumerate(lista):\n",
        "    print(f\"{i} : {l}\")\n"
      ],
      "metadata": {
        "colab": {
          "base_uri": "https://localhost:8080/"
        },
        "id": "LZfjdvak4zwU",
        "outputId": "44e64928-bd91-4ee8-cea1-98cd1dfa7e11"
      },
      "execution_count": 48,
      "outputs": [
        {
          "output_type": "stream",
          "name": "stdout",
          "text": [
            "0 : a\n",
            "1 : changed\n",
            "2 : f\n",
            "3 : p\n"
          ]
        }
      ]
    },
    {
      "cell_type": "code",
      "source": [
        "# Adicionar manualmente itens em uma lista\n",
        "c = []\n",
        "c.append('a')\n",
        "c.append('b')\n",
        "c.append('c')\n",
        "c.append('d')\n",
        "print(c)\n"
      ],
      "metadata": {
        "colab": {
          "base_uri": "https://localhost:8080/"
        },
        "id": "AF2A4P2B5M7i",
        "outputId": "4c4b608b-90a9-4d6f-b850-ae44b20ece7f"
      },
      "execution_count": 49,
      "outputs": [
        {
          "output_type": "stream",
          "name": "stdout",
          "text": [
            "['a', 'b', 'c', 'd']\n"
          ]
        }
      ]
    },
    {
      "cell_type": "code",
      "source": [
        "print(c[1])"
      ],
      "metadata": {
        "colab": {
          "base_uri": "https://localhost:8080/"
        },
        "id": "rmWxUyWX5gnH",
        "outputId": "c34b8eee-7413-49b8-d6eb-0b356addc6ff"
      },
      "execution_count": 50,
      "outputs": [
        {
          "output_type": "stream",
          "name": "stdout",
          "text": [
            "b\n"
          ]
        }
      ]
    },
    {
      "cell_type": "code",
      "source": [
        "# Insert\n",
        "c = ['a', 'b', 'c']\n",
        "c.insert(0, 'a0')\n",
        "print(c)\n",
        "# Remove\n",
        "c.remove('b')\n",
        "print(c)\n",
        "# Remove at index\n",
        "del c[0]\n",
        "print(c)"
      ],
      "metadata": {
        "colab": {
          "base_uri": "https://localhost:8080/"
        },
        "id": "RgjF9NjX5rPI",
        "outputId": "da69418c-b8a0-4828-e3ae-1de714a132d1"
      },
      "execution_count": 51,
      "outputs": [
        {
          "output_type": "stream",
          "name": "stdout",
          "text": [
            "['a0', 'a', 'b', 'c']\n",
            "['a0', 'a', 'c']\n",
            "['a', 'c']\n"
          ]
        }
      ]
    },
    {
      "cell_type": "code",
      "source": [
        "# Sets() Se um programa adiciona um item duplicado a um conjunto, apenas uma cópia de cada item permanece na coleção.\n",
        "\n",
        "s = set(['a', 'b', 'c'])\n",
        "s.add('c')\n",
        "s.add('a')\n",
        "s.add('f')\n",
        "print(s)"
      ],
      "metadata": {
        "colab": {
          "base_uri": "https://localhost:8080/"
        },
        "id": "6tihJySu642a",
        "outputId": "134d9d16-3e99-4aef-a9e7-57d6330c1624"
      },
      "execution_count": 63,
      "outputs": [
        {
          "output_type": "stream",
          "name": "stdout",
          "text": [
            "{'b', 'c', 'a', 'f'}\n"
          ]
        }
      ]
    },
    {
      "cell_type": "markdown",
      "source": [
        "## Dicionários"
      ],
      "metadata": {
        "id": "LNobaZnCI01X"
      }
    },
    {
      "cell_type": "code",
      "source": [
        "# O Python fornece o dicionário que é essenciamente uma coleção de pares {chave: valor}!\n",
        "\n",
        "d = {'nome': \"João\", 'endereço':\"Av 123\"}\n",
        "print(d)\n",
        "print(d['nome'])\n",
        "\n",
        "if 'nome' in d:\n",
        "    print(\"Nome definido\")\n",
        "\n",
        "if 'idade' in d:\n",
        "    print(\"idade definida\")\n",
        "else:\n",
        "    print(\"idade não definida\")"
      ],
      "metadata": {
        "colab": {
          "base_uri": "https://localhost:8080/"
        },
        "id": "6Xu75auRJF2o",
        "outputId": "ebaa500e-d17a-4b37-dd12-e44c60a053a8"
      },
      "execution_count": 65,
      "outputs": [
        {
          "output_type": "stream",
          "name": "stdout",
          "text": [
            "{'nome': 'João', 'endereço': 'Av 123'}\n",
            "João\n",
            "Nome definido\n",
            "idade não definida\n"
          ]
        }
      ]
    },
    {
      "cell_type": "code",
      "source": [
        "d = {'nome': \"João\", 'endereço':\"Av 123\"}\n",
        "\n",
        "# Todas as chaves\n",
        "print(f\"Chaves: {d.keys()}\")\n",
        "\n",
        "#Todos os valores\n",
        "print(f\"Chaves: {d.values()}\")"
      ],
      "metadata": {
        "colab": {
          "base_uri": "https://localhost:8080/"
        },
        "id": "z5uPcZ8pLVcc",
        "outputId": "b2f16efc-99b3-4f15-ab61-5a0c04a9212f"
      },
      "execution_count": 67,
      "outputs": [
        {
          "output_type": "stream",
          "name": "stdout",
          "text": [
            "Chaves: dict_keys(['nome', 'endereço'])\n",
            "Chaves: dict_values(['João', 'Av 123'])\n"
          ]
        }
      ]
    },
    {
      "cell_type": "code",
      "source": [
        "# Lista de dicionários\n",
        "\n",
        "pessoas = [\n",
        "           {\"nome\": \"João\", 'endereço':\"Av 123\", \"tel\": \"012997642345\"},\n",
        "           {\"nome\": \"Julia\", 'endereço':\"Av 773\", \"tel\": \"03456789435\"},\n",
        "           {\"nome\": \"Vic\", 'endereço':\"Av 23\", \"tel\": \"-\"},\n",
        "           {\"nome\": \"João\"},\n",
        "]\n",
        "\n",
        "print(pessoas)\n",
        "\n",
        "for pessoa in pessoas:\n",
        "    print(f\"{pessoa['nome']}:{pessoa.get('tel', 'não tel')}\")"
      ],
      "metadata": {
        "colab": {
          "base_uri": "https://localhost:8080/"
        },
        "id": "JNAVRQBJLxpe",
        "outputId": "e00f4a49-67a0-4d85-9891-63662ad7ebd5"
      },
      "execution_count": 73,
      "outputs": [
        {
          "output_type": "stream",
          "name": "stdout",
          "text": [
            "[{'nome': 'João', 'endereço': 'Av 123', 'tel': '012997642345'}, {'nome': 'Julia', 'endereço': 'Av 773', 'tel': '03456789435'}, {'nome': 'Vic', 'endereço': 'Av 23', 'tel': '-'}, {'nome': 'João'}]\n",
            "João:012997642345\n",
            "Julia:03456789435\n",
            "Vic:-\n",
            "João:não tel\n"
          ]
        }
      ]
    },
    {
      "cell_type": "code",
      "source": [
        ""
      ],
      "metadata": {
        "id": "RnpywETCM7Fu"
      },
      "execution_count": null,
      "outputs": []
    }
  ]
}